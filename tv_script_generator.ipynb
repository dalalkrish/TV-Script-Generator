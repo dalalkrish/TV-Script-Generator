{
 "cells": [
  {
   "cell_type": "code",
   "execution_count": 1,
   "metadata": {
    "collapsed": true,
    "deletable": true,
    "editable": true
   },
   "outputs": [],
   "source": [
    "import numpy as np\n",
    "import tensorflow as tf\n",
    "import warnings\n",
    "import helper\n",
    "warnings.filterwarnings('ignore')"
   ]
  },
  {
   "cell_type": "code",
   "execution_count": 2,
   "metadata": {
    "collapsed": false,
    "deletable": true,
    "editable": true
   },
   "outputs": [
    {
     "name": "stdout",
     "output_type": "stream",
     "text": [
      "[YEAR DATE 1989] © Twentieth Century Fox Film Corporation. All rights reserved.\n",
      "\n",
      "\n"
     ]
    }
   ],
   "source": [
    "data_dir = 'data/simpsons/moes_tavern_lines.txt'\n",
    "text = helper.load_data(data_dir)\n",
    "print(text[:81])\n",
    "text = text[81:] # Remving the first line"
   ]
  },
  {
   "cell_type": "code",
   "execution_count": 3,
   "metadata": {
    "collapsed": false,
    "deletable": true,
    "editable": true
   },
   "outputs": [
    {
     "name": "stdout",
     "output_type": "stream",
     "text": [
      "Dataset Stats\n",
      "Roughly the number of unique words: 11492\n",
      "Number of scenes: 262\n",
      "Average number of sentences in each scene: 15.248091603053435\n",
      "Number of lines: 4257\n",
      "Average number of words in each line: 11.50434578341555\n",
      "\n",
      "The sentences 0 to 10:\n",
      "Moe_Szyslak: (INTO PHONE) Moe's Tavern. Where the elite meet to drink.\n",
      "Bart_Simpson: Eh, yeah, hello, is Mike there? Last name, Rotch.\n",
      "Moe_Szyslak: (INTO PHONE) Hold on, I'll check. (TO BARFLIES) Mike Rotch. Mike Rotch. Hey, has anybody seen Mike Rotch, lately?\n",
      "Moe_Szyslak: (INTO PHONE) Listen you little puke. One of these days I'm gonna catch you, and I'm gonna carve my name on your back with an ice pick.\n",
      "Moe_Szyslak: What's the matter Homer? You're not your normal effervescent self.\n",
      "Homer_Simpson: I got my problems, Moe. Give me another one.\n",
      "Moe_Szyslak: Homer, hey, you should not drink to forget your problems.\n",
      "Barney_Gumble: Yeah, you should only drink to enhance your social skills.\n",
      "\n",
      "\n"
     ]
    }
   ],
   "source": [
    "view_sentence_range = (0, 10)\n",
    "\n",
    "print('Dataset Stats')\n",
    "print('Roughly the number of unique words: {}'.format(len({word: None for word in text.split()})))\n",
    "scenes = text.split('\\n\\n')\n",
    "print('Number of scenes: {}'.format(len(scenes)))\n",
    "sentence_count_scene = [scene.count('\\n') for scene in scenes]\n",
    "print('Average number of sentences in each scene: {}'.format(np.average(sentence_count_scene)))\n",
    "\n",
    "sentences = [sentence for scene in scenes for sentence in scene.split('\\n')]\n",
    "print('Number of lines: {}'.format(len(sentences)))\n",
    "word_count_sentence = [len(sentence.split()) for sentence in sentences]\n",
    "print('Average number of words in each line: {}'.format(np.average(word_count_sentence)))\n",
    "\n",
    "print()\n",
    "print('The sentences {} to {}:'.format(*view_sentence_range))\n",
    "print('\\n'.join(text.split('\\n')[view_sentence_range[0]:view_sentence_range[1]]))"
   ]
  },
  {
   "cell_type": "markdown",
   "metadata": {
    "deletable": true,
    "editable": true
   },
   "source": [
    "**Implementing Preprocessing Functions** \n",
    "\n",
    "The first thing to do to any dataset is preprocessing. Implementing the following preprocessing functions below:\n",
    "    - Lookup Table\n",
    "    - Tokenize Punctuation"
   ]
  },
  {
   "cell_type": "code",
   "execution_count": 5,
   "metadata": {
    "collapsed": false,
    "deletable": true,
    "editable": true
   },
   "outputs": [
    {
     "name": "stdout",
     "output_type": "stream",
     "text": [
      "Tests Passed\n"
     ]
    }
   ],
   "source": [
    "import problem_unittests as tests\n",
    "\n",
    "def create_lookup_tables(text):\n",
    "    \"\"\"\n",
    "    param: \n",
    "     - text: The text of tv scripts split into words\n",
    "     - return: A tuple of dicts (vocab_to_int, int_to_vocab)\n",
    "    \"\"\"\n",
    "    vocab = set(text)\n",
    "    vocab_to_int = {v: k for k, v in enumerate(vocab)}\n",
    "    int_to_vocab = {v: k for k, v in vocab_to_int.items()}\n",
    "    \n",
    "    return (vocab_to_int, int_to_vocab)\n",
    "\n",
    "tests.test_create_lookup_tables(create_lookup_tables)"
   ]
  },
  {
   "cell_type": "markdown",
   "metadata": {
    "deletable": true,
    "editable": true
   },
   "source": [
    "**Tokenize Punctuation**\n",
    "\n",
    "Creating a dictionary for the following symbols where the symbol is the key and value is the token:\n",
    "\n",
    "Period ( . )\n",
    "\n",
    "Comma ( , )\n",
    "\n",
    "Quotation Mark ( \" )\n",
    "\n",
    "Semicolon ( ; )\n",
    "\n",
    "Exclamation mark ( ! )\n",
    "\n",
    "Question mark ( ? )\n",
    "\n",
    "Left Parentheses ( ( )\n",
    "\n",
    "Right Parentheses ( ) )\n",
    "\n",
    "Dash ( -- )\n",
    "\n",
    "Return ( \\n )\n",
    "\n",
    "This dictionary will be used to token the symbols and add the delimiter (space) around it. This separates the symbols as it's own word, making it easier for the neural network to predict on the next word. "
   ]
  },
  {
   "cell_type": "code",
   "execution_count": 6,
   "metadata": {
    "collapsed": false,
    "deletable": true,
    "editable": true
   },
   "outputs": [
    {
     "name": "stdout",
     "output_type": "stream",
     "text": [
      "Tests Passed\n"
     ]
    }
   ],
   "source": [
    "def token_lookup():\n",
    "    \"\"\"\n",
    "    return: Tokenize dictionary where the key is the punctuation and the value is the token\n",
    "    \"\"\"\n",
    "    token_dict = {\n",
    "        \n",
    "        \".\": \"||Period||\",\n",
    "        \",\": \"||Comma||\",\n",
    "        \"\\\"\": \"||Quotation||\",\n",
    "        \";\": \"||Semicolon||\",\n",
    "        \"!\": \"||Exclamation_Mark||\",\n",
    "        \"?\": \"||Question_Mark||\",\n",
    "        \"(\": \"||Left_Paranthesis||\",\n",
    "        \")\": \"||Right_Paranthesis||\",\n",
    "        \"--\" : \"||Dash||\",\n",
    "        \"\\n\" : \"||Return||\"\n",
    "    }\n",
    "    return token_dict\n",
    "\n",
    "tests.test_tokenize(token_lookup)"
   ]
  },
  {
   "cell_type": "markdown",
   "metadata": {
    "deletable": true,
    "editable": true
   },
   "source": [
    "**Preprocess all the data and save it**\n",
    "\n",
    "Running the code cell below will preprocess all the data and save it to file."
   ]
  },
  {
   "cell_type": "code",
   "execution_count": 7,
   "metadata": {
    "collapsed": true,
    "deletable": true,
    "editable": true
   },
   "outputs": [],
   "source": [
    "# Preprocess Training, Validation, and Testing Data\n",
    "helper.preprocess_and_save_data(data_dir, token_lookup, create_lookup_tables)"
   ]
  },
  {
   "cell_type": "code",
   "execution_count": 8,
   "metadata": {
    "collapsed": true,
    "deletable": true,
    "editable": true
   },
   "outputs": [],
   "source": [
    "# The checkpoint to resume the next time\n",
    "import helper\n",
    "import numpy as np\n",
    "import problem_unittests as tests\n",
    "\n",
    "int_text, vocab_to_int, int_to_vocab, token_dict = helper.load_preprocess()"
   ]
  },
  {
   "cell_type": "markdown",
   "metadata": {
    "deletable": true,
    "editable": true
   },
   "source": [
    "**Checking the TensorFlow Version**"
   ]
  },
  {
   "cell_type": "code",
   "execution_count": 9,
   "metadata": {
    "collapsed": false,
    "deletable": true,
    "editable": true
   },
   "outputs": [
    {
     "name": "stdout",
     "output_type": "stream",
     "text": [
      "TensorFlow Version: 1.0.0\n"
     ]
    }
   ],
   "source": [
    "from distutils.version import LooseVersion\n",
    "import warnings\n",
    "import tensorflow as tf\n",
    "\n",
    "# Check TensorFlow Version\n",
    "assert LooseVersion(tf.__version__) >= LooseVersion('1.0'), 'Please use TensorFlow version 1.0 or newer'\n",
    "print('TensorFlow Version: {}'.format(tf.__version__))\n",
    "\n",
    "# Check for a GPU\n",
    "if not tf.test.gpu_device_name():\n",
    "    warnings.warn('No GPU found. Please use a GPU to train your neural network.')\n",
    "else:\n",
    "    print('Default GPU Device: {}'.format(tf.test.gpu_device_name()))"
   ]
  },
  {
   "cell_type": "markdown",
   "metadata": {
    "deletable": true,
    "editable": true
   },
   "source": [
    "**Input**\n",
    "\n",
    "*Implementing the get_inputs() function to create TF Placeholders for the Neural Network.*\n",
    "\n",
    "Input text placeholder named \"input\" using the TF Placeholder name parameter\n",
    "\n",
    "    :Targets placeholder\n",
    "    :Learning Rate placeholder\n",
    "    :Returning the placeholders in the following tuple (Input, Targets, LearningRate)"
   ]
  },
  {
   "cell_type": "code",
   "execution_count": 10,
   "metadata": {
    "collapsed": false,
    "deletable": true,
    "editable": true
   },
   "outputs": [
    {
     "name": "stdout",
     "output_type": "stream",
     "text": [
      "Tests Passed\n"
     ]
    }
   ],
   "source": [
    "def get_inputs():\n",
    "    \"\"\"\n",
    "    Create TF Placeholders for input, targets, and learning rate.\n",
    "    :return: Tuple (input, targets, learning rate)\n",
    "    \"\"\"\n",
    "    inputs = tf.placeholder(tf.int32, shape=(None, None), name=\"input\")\n",
    "    targets = tf.placeholder(tf.int32, shape=(None, None), name=\"Target\")\n",
    "    learning_rate = tf.placeholder(tf.float32, name=\"LearningRate\")\n",
    "    \n",
    "    return (inputs, targets, learning_rate)\n",
    "\n",
    "tests.test_get_inputs(get_inputs)"
   ]
  },
  {
   "cell_type": "markdown",
   "metadata": {
    "deletable": true,
    "editable": true
   },
   "source": [
    "**Building RNN Cell and Initialize**\n",
    "\n",
    "- Stack one or more BasicLSTMCells in a MultiRNNCell.\n",
    "\n",
    "- The Rnn size should be set using rnn_size\n",
    "\n",
    "- Initalize Cell State using the *MultiRNNCell's* zero_state() function\n",
    "\n",
    "- Apply the name \"initial_state\" to the initial state using tf.identity()\n",
    "\n",
    "- Return the cell and initial state in the following tuple (Cell, InitialState)"
   ]
  },
  {
   "cell_type": "code",
   "execution_count": 11,
   "metadata": {
    "collapsed": false,
    "deletable": true,
    "editable": true
   },
   "outputs": [
    {
     "name": "stdout",
     "output_type": "stream",
     "text": [
      "Tests Passed\n"
     ]
    }
   ],
   "source": [
    "def get_init_cell(batch_size, rnn_size):\n",
    "    \"\"\"\n",
    "    :param: \n",
    "        - batch_size: Size of batches\n",
    "        - param rnn_size: Size of RNNs\n",
    "        - return: Tuple (cell, initialize state)\n",
    "    \"\"\"\n",
    "    lstm = tf.contrib.rnn.BasicLSTMCell(rnn_size)\n",
    "    \n",
    "    drop = tf.contrib.rnn.DropoutWrapper(lstm, output_keep_prob=0.5)\n",
    "    \n",
    "    cell = tf.contrib.rnn.MultiRNNCell([drop] * 2)\n",
    "    \n",
    "    initial_state = tf.identity(cell.zero_state(batch_size, tf.float32), name='initial_state')\n",
    "    \n",
    "    return (cell, initial_state)\n",
    "\n",
    "tests.test_get_init_cell(get_init_cell)"
   ]
  },
  {
   "cell_type": "markdown",
   "metadata": {
    "deletable": true,
    "editable": true
   },
   "source": [
    "### Word Embedding\n",
    "Creating embedding to `input_data` using TensorFlow.  Return the embedded sequence."
   ]
  },
  {
   "cell_type": "code",
   "execution_count": 12,
   "metadata": {
    "collapsed": false,
    "deletable": true,
    "editable": true
   },
   "outputs": [
    {
     "name": "stdout",
     "output_type": "stream",
     "text": [
      "Tests Passed\n"
     ]
    }
   ],
   "source": [
    "def get_embed(input_data, vocab_size, embed_dim):\n",
    "    \"\"\"\n",
    "    :param:\n",
    "        - input_data: TF placeholder for text input.\n",
    "        - vocab_size: Number of words in vocabulary.\n",
    "        - embed_dim: Number of embedding dimensions\n",
    "    \n",
    "    \"\"\"\n",
    "    embedding = tf.Variable(tf.random_uniform((vocab_size, embed_dim), -1, 1))\n",
    "    embed = tf.nn.embedding_lookup(embedding, input_data)\n",
    "\n",
    "    return embed\n",
    "\n",
    "tests.test_get_embed(get_embed)"
   ]
  },
  {
   "cell_type": "markdown",
   "metadata": {
    "deletable": true,
    "editable": true
   },
   "source": [
    "### Building the Neural Network"
   ]
  },
  {
   "cell_type": "code",
   "execution_count": 13,
   "metadata": {
    "collapsed": false,
    "deletable": true,
    "editable": true
   },
   "outputs": [
    {
     "name": "stdout",
     "output_type": "stream",
     "text": [
      "Tests Passed\n"
     ]
    }
   ],
   "source": [
    "def build_rnn(cell, inputs):\n",
    "    \"\"\"\n",
    "    Create a RNN using a RNN Cell\n",
    "    :param cell: RNN Cell\n",
    "    :param inputs: Input text data\n",
    "    :return: Tuple (Outputs, Final State)\n",
    "    \"\"\"\n",
    "    output, final_state = tf.nn.dynamic_rnn(cell, inputs, dtype=tf.float32)\n",
    "    final_state = tf.identity(final_state, name=\"final_state\")\n",
    "    \n",
    "    return (output, final_state)\n",
    "\n",
    "tests.test_build_rnn(build_rnn)"
   ]
  },
  {
   "cell_type": "code",
   "execution_count": 14,
   "metadata": {
    "collapsed": false,
    "deletable": true,
    "editable": true
   },
   "outputs": [
    {
     "name": "stdout",
     "output_type": "stream",
     "text": [
      "Tests Passed\n"
     ]
    }
   ],
   "source": [
    "def build_nn(cell, rnn_size, input_data, vocab_size, embed_dim):\n",
    "    \"\"\"\n",
    "    Build part of the neural network\n",
    "    :param:\n",
    "        - cell: RNN cell\n",
    "        - rnn_size: Size of rnns\n",
    "        - input_data: Input data\n",
    "        - vocab_size: Vocabulary size\n",
    "        - embed_dim: Number of embedding dimensions\n",
    "    \"\"\"\n",
    "    embeddings = get_embed(input_data, vocab_size, embed_dim)\n",
    "    \n",
    "    rnn_output, f_state = build_rnn(cell, embeddings)\n",
    "    \n",
    "    logits = tf.contrib.layers.fully_connected(rnn_output, vocab_size, activation_fn=tf.nn.relu)\n",
    "    \n",
    "    return (logits, f_state)\n",
    "\n",
    "tests.test_build_nn(build_nn)"
   ]
  },
  {
   "cell_type": "markdown",
   "metadata": {
    "deletable": true,
    "editable": true
   },
   "source": [
    "### Batches\n",
    "Implementing `get_batches` to create batches of input and targets using `int_text`.  The batches are Numpy array with the shape `(number of batches, 2, batch size, sequence length)`. Each batch contains two elements:\n",
    "- The first element is a single batch of **input** with the shape `[batch size, sequence length]`\n",
    "- The second element is a single batch of **targets** with the shape `[batch size, sequence length]`\n",
    "\n",
    "If you can't fill the last batch with enough data, drop the last batch.\n",
    "\n",
    "For exmple, `get_batches([1, 2, 3, 4, 5, 6, 7, 8, 9, 10, 11, 12, 13, 14, 15, 16, 17, 18, 19, 20], 3, 2)` would return a Numpy array of the following:\n",
    "```\n",
    "[\n",
    "  # First Batch\n",
    "  [\n",
    "    # Batch of Input\n",
    "    [[ 1  2], [ 7  8], [13 14]]\n",
    "    # Batch of targets\n",
    "    [[ 2  3], [ 8  9], [14 15]]\n",
    "  ]\n",
    "\n",
    "  # Second Batch\n",
    "  [\n",
    "    # Batch of Input\n",
    "    [[ 3  4], [ 9 10], [15 16]]\n",
    "    # Batch of targets\n",
    "    [[ 4  5], [10 11], [16 17]]\n",
    "  ]\n",
    "\n",
    "  # Third Batch\n",
    "  [\n",
    "    # Batch of Input\n",
    "    [[ 5  6], [11 12], [17 18]]\n",
    "    # Batch of targets\n",
    "    [[ 6  7], [12 13], [18  1]]\n",
    "  ]\n",
    "]\n",
    "```\n",
    "\n",
    "Notice that the last target value in the last batch is the first input value of the first batch. In this case, `1`. This is a common technique used when creating sequence batches, although it is rather unintuitive."
   ]
  },
  {
   "cell_type": "code",
   "execution_count": 15,
   "metadata": {
    "collapsed": false,
    "deletable": true,
    "editable": true
   },
   "outputs": [
    {
     "name": "stdout",
     "output_type": "stream",
     "text": [
      "Tests Passed\n"
     ]
    }
   ],
   "source": [
    "def get_batches(int_text, batch_size, seq_length):\n",
    "    \"\"\"\n",
    "    Return batches of input and target\n",
    "    param:\n",
    "        - int_text: Text with the words replaced by their ids\n",
    "        - batch_size: The size of batch\n",
    "        - seq_length: The length of sequence\n",
    "    return: \n",
    "        - Batches as a Numpy array\n",
    "    \"\"\"\n",
    "    n_batches = int(len(int_text) / (batch_size * seq_length))\n",
    "\n",
    "    input_data = np.array(int_text[: n_batches * seq_length * batch_size])\n",
    "    target_data = np.array(int_text[1: n_batches * seq_length *  batch_size + 1])\n",
    "    \n",
    "    input_batch = np.split(input_data.reshape(batch_size, -1), n_batches, 1)\n",
    "    target_batch = np.split(target_data.reshape(batch_size, -1), n_batches, 1)\n",
    "    \n",
    "    target_batch[-1][-1][-1] = 0\n",
    "    \n",
    "    batches = list(zip(input_batch, target_batch))\n",
    "    batches = np.array(batches)\n",
    "    \n",
    "    return batches\n",
    "\n",
    "tests.test_get_batches(get_batches)"
   ]
  },
  {
   "cell_type": "markdown",
   "metadata": {
    "deletable": true,
    "editable": true
   },
   "source": [
    "## Neural Network Training\n",
    "### Hyperparameters\n",
    "Tune the following parameters:\n",
    "\n",
    "- Set `num_epochs` to the number of epochs.\n",
    "- Set `batch_size` to the batch size.\n",
    "- Set `rnn_size` to the size of the RNNs.\n",
    "- Set `embed_dim` to the size of the embedding.\n",
    "- Set `seq_length` to the length of sequence.\n",
    "- Set `learning_rate` to the learning rate.\n",
    "- Set `show_every_n_batches` to the number of batches the neural network should print progress."
   ]
  },
  {
   "cell_type": "code",
   "execution_count": 28,
   "metadata": {
    "collapsed": true,
    "deletable": true,
    "editable": true
   },
   "outputs": [],
   "source": [
    "# Number of Epochs\n",
    "num_epochs = 800\n",
    "# Batch Size\n",
    "batch_size = 64\n",
    "# RNN Size\n",
    "rnn_size = 700\n",
    "# Embedding Dimension Size\n",
    "embed_dim = 300\n",
    "# Sequence Length\n",
    "seq_length = 165\n",
    "# Learning Rate\n",
    "learning_rate = .003\n",
    "# Show stats for every n number of batches\n",
    "show_every_n_batches = 50\n",
    "\n",
    "\"\"\"\n",
    "DON'T MODIFY ANYTHING IN THIS CELL THAT IS BELOW THIS LINE\n",
    "\"\"\"\n",
    "save_dir = './save'"
   ]
  },
  {
   "cell_type": "markdown",
   "metadata": {
    "deletable": true,
    "editable": true
   },
   "source": [
    "### Build the Graph\n",
    "Build the graph using the neural network you implemented."
   ]
  },
  {
   "cell_type": "code",
   "execution_count": 17,
   "metadata": {
    "collapsed": true,
    "deletable": true,
    "editable": true
   },
   "outputs": [],
   "source": [
    "\"\"\"\n",
    "DON'T MODIFY ANYTHING IN THIS CELL\n",
    "\"\"\"\n",
    "from tensorflow.contrib import seq2seq\n",
    "\n",
    "train_graph = tf.Graph()\n",
    "with train_graph.as_default():\n",
    "    vocab_size = len(int_to_vocab)\n",
    "    input_text, targets, lr = get_inputs()\n",
    "    input_data_shape = tf.shape(input_text)\n",
    "    cell, initial_state = get_init_cell(input_data_shape[0], rnn_size)\n",
    "    logits, final_state = build_nn(cell, rnn_size, input_text, vocab_size, embed_dim)\n",
    "\n",
    "    # Probabilities for generating words\n",
    "    probs = tf.nn.softmax(logits, name='probs')\n",
    "\n",
    "    # Loss function\n",
    "    cost = seq2seq.sequence_loss(\n",
    "        logits,\n",
    "        targets,\n",
    "        tf.ones([input_data_shape[0], input_data_shape[1]]))\n",
    "\n",
    "    # Optimizer\n",
    "    optimizer = tf.train.AdamOptimizer(lr)\n",
    "\n",
    "    # Gradient Clipping\n",
    "    gradients = optimizer.compute_gradients(cost)\n",
    "    capped_gradients = [(tf.clip_by_value(grad, -1., 1.), var) for grad, var in gradients if grad is not None]\n",
    "    train_op = optimizer.apply_gradients(capped_gradients)"
   ]
  },
  {
   "cell_type": "markdown",
   "metadata": {
    "deletable": true,
    "editable": true
   },
   "source": [
    "## Train\n",
    "Train the neural network on the preprocessed data.  If you have a hard time getting a good loss, check the [forums](https://discussions.udacity.com/) to see if anyone is having the same problem."
   ]
  },
  {
   "cell_type": "code",
   "execution_count": 29,
   "metadata": {
    "collapsed": false,
    "deletable": true,
    "editable": true
   },
   "outputs": [
    {
     "name": "stdout",
     "output_type": "stream",
     "text": [
      "Epoch   0 Batch    0/6   train_loss = 8.822\n",
      "Epoch   8 Batch    2/6   train_loss = 6.034\n",
      "Epoch  16 Batch    4/6   train_loss = 6.004\n",
      "Epoch  25 Batch    0/6   train_loss = 5.805\n",
      "Epoch  33 Batch    2/6   train_loss = 5.689\n",
      "Epoch  41 Batch    4/6   train_loss = 5.638\n",
      "Epoch  50 Batch    0/6   train_loss = 5.485\n",
      "Epoch  58 Batch    2/6   train_loss = 5.384\n",
      "Epoch  66 Batch    4/6   train_loss = 5.355\n",
      "Epoch  75 Batch    0/6   train_loss = 5.287\n",
      "Epoch  83 Batch    2/6   train_loss = 5.224\n",
      "Epoch  91 Batch    4/6   train_loss = 5.218\n",
      "Epoch 100 Batch    0/6   train_loss = 5.139\n",
      "Epoch 108 Batch    2/6   train_loss = 5.039\n",
      "Epoch 116 Batch    4/6   train_loss = 5.055\n",
      "Epoch 125 Batch    0/6   train_loss = 4.960\n",
      "Epoch 133 Batch    2/6   train_loss = 4.873\n",
      "Epoch 141 Batch    4/6   train_loss = 4.907\n",
      "Epoch 150 Batch    0/6   train_loss = 4.797\n",
      "Epoch 158 Batch    2/6   train_loss = 4.704\n",
      "Epoch 166 Batch    4/6   train_loss = 4.768\n",
      "Epoch 175 Batch    0/6   train_loss = 4.617\n",
      "Epoch 183 Batch    2/6   train_loss = 4.567\n",
      "Epoch 191 Batch    4/6   train_loss = 4.535\n",
      "Epoch 200 Batch    0/6   train_loss = 4.462\n",
      "Epoch 208 Batch    2/6   train_loss = 4.400\n",
      "Epoch 216 Batch    4/6   train_loss = 4.365\n",
      "Epoch 225 Batch    0/6   train_loss = 4.271\n",
      "Epoch 233 Batch    2/6   train_loss = 4.157\n",
      "Epoch 241 Batch    4/6   train_loss = 4.189\n",
      "Epoch 250 Batch    0/6   train_loss = 4.105\n",
      "Epoch 258 Batch    2/6   train_loss = 3.998\n",
      "Epoch 266 Batch    4/6   train_loss = 4.046\n",
      "Epoch 275 Batch    0/6   train_loss = 3.940\n",
      "Epoch 283 Batch    2/6   train_loss = 3.843\n",
      "Epoch 291 Batch    4/6   train_loss = 3.853\n",
      "Epoch 300 Batch    0/6   train_loss = 3.778\n",
      "Epoch 308 Batch    2/6   train_loss = 3.700\n",
      "Epoch 316 Batch    4/6   train_loss = 3.750\n",
      "Epoch 325 Batch    0/6   train_loss = 3.643\n",
      "Epoch 333 Batch    2/6   train_loss = 3.580\n",
      "Epoch 341 Batch    4/6   train_loss = 3.610\n",
      "Epoch 350 Batch    0/6   train_loss = 3.502\n",
      "Epoch 358 Batch    2/6   train_loss = 3.481\n",
      "Epoch 366 Batch    4/6   train_loss = 3.491\n",
      "Epoch 375 Batch    0/6   train_loss = 3.409\n",
      "Epoch 383 Batch    2/6   train_loss = 3.330\n",
      "Epoch 391 Batch    4/6   train_loss = 3.385\n",
      "Epoch 400 Batch    0/6   train_loss = 3.337\n",
      "Epoch 408 Batch    2/6   train_loss = 3.276\n",
      "Epoch 416 Batch    4/6   train_loss = 3.294\n",
      "Epoch 425 Batch    0/6   train_loss = 3.230\n",
      "Epoch 433 Batch    2/6   train_loss = 3.155\n",
      "Epoch 441 Batch    4/6   train_loss = 3.226\n",
      "Epoch 450 Batch    0/6   train_loss = 3.150\n",
      "Epoch 458 Batch    2/6   train_loss = 3.077\n",
      "Epoch 466 Batch    4/6   train_loss = 3.150\n",
      "Epoch 475 Batch    0/6   train_loss = 3.098\n",
      "Epoch 483 Batch    2/6   train_loss = 3.034\n",
      "Epoch 491 Batch    4/6   train_loss = 3.054\n",
      "Epoch 500 Batch    0/6   train_loss = 2.988\n",
      "Epoch 508 Batch    2/6   train_loss = 2.983\n",
      "Epoch 516 Batch    4/6   train_loss = 2.989\n",
      "Epoch 525 Batch    0/6   train_loss = 2.959\n",
      "Epoch 533 Batch    2/6   train_loss = 2.902\n",
      "Epoch 541 Batch    4/6   train_loss = 2.990\n",
      "Epoch 550 Batch    0/6   train_loss = 2.891\n",
      "Epoch 558 Batch    2/6   train_loss = 2.857\n",
      "Epoch 566 Batch    4/6   train_loss = 2.901\n",
      "Epoch 575 Batch    0/6   train_loss = 2.875\n",
      "Epoch 583 Batch    2/6   train_loss = 2.818\n",
      "Epoch 591 Batch    4/6   train_loss = 2.838\n",
      "Epoch 600 Batch    0/6   train_loss = 2.861\n",
      "Epoch 608 Batch    2/6   train_loss = 2.765\n",
      "Epoch 616 Batch    4/6   train_loss = 2.830\n",
      "Epoch 625 Batch    0/6   train_loss = 2.743\n",
      "Epoch 633 Batch    2/6   train_loss = 2.730\n",
      "Epoch 641 Batch    4/6   train_loss = 2.776\n",
      "Epoch 650 Batch    0/6   train_loss = 2.699\n",
      "Epoch 658 Batch    2/6   train_loss = 2.686\n",
      "Epoch 666 Batch    4/6   train_loss = 2.755\n",
      "Epoch 675 Batch    0/6   train_loss = 2.660\n",
      "Epoch 683 Batch    2/6   train_loss = 2.650\n",
      "Epoch 691 Batch    4/6   train_loss = 2.692\n",
      "Epoch 700 Batch    0/6   train_loss = 2.623\n",
      "Epoch 708 Batch    2/6   train_loss = 2.622\n",
      "Epoch 716 Batch    4/6   train_loss = 2.701\n",
      "Epoch 725 Batch    0/6   train_loss = 2.582\n",
      "Epoch 733 Batch    2/6   train_loss = 2.584\n",
      "Epoch 741 Batch    4/6   train_loss = 2.639\n",
      "Epoch 750 Batch    0/6   train_loss = 2.552\n",
      "Epoch 758 Batch    2/6   train_loss = 2.545\n",
      "Epoch 766 Batch    4/6   train_loss = 2.615\n",
      "Epoch 775 Batch    0/6   train_loss = 2.535\n",
      "Epoch 783 Batch    2/6   train_loss = 2.497\n",
      "Epoch 791 Batch    4/6   train_loss = 2.597\n",
      "Model Trained and Saved\n"
     ]
    }
   ],
   "source": [
    "\"\"\"\n",
    "DON'T MODIFY ANYTHING IN THIS CELL\n",
    "\"\"\"\n",
    "batches = get_batches(int_text, batch_size, seq_length)\n",
    "\n",
    "with tf.Session(graph=train_graph) as sess:\n",
    "    sess.run(tf.global_variables_initializer())\n",
    "\n",
    "    for epoch_i in range(num_epochs):\n",
    "        state = sess.run(initial_state, {input_text: batches[0][0]})\n",
    "\n",
    "        for batch_i, (x, y) in enumerate(batches):\n",
    "            feed = {\n",
    "                input_text: x,\n",
    "                targets: y,\n",
    "                initial_state: state,\n",
    "                lr: learning_rate}\n",
    "            train_loss, state, _ = sess.run([cost, final_state, train_op], feed)\n",
    "\n",
    "            # Show every <show_every_n_batches> batches\n",
    "            if (epoch_i * len(batches) + batch_i) % show_every_n_batches == 0:\n",
    "                print('Epoch {:>3} Batch {:>4}/{}   train_loss = {:.3f}'.format(\n",
    "                    epoch_i,\n",
    "                    batch_i,\n",
    "                    len(batches),\n",
    "                    train_loss))\n",
    "\n",
    "    # Save Model\n",
    "    saver = tf.train.Saver()\n",
    "    saver.save(sess, save_dir)\n",
    "    print('Model Trained and Saved')"
   ]
  },
  {
   "cell_type": "markdown",
   "metadata": {},
   "source": [
    "## Save Parameters\n",
    "Save `seq_length` and `save_dir` for generating a new TV script."
   ]
  },
  {
   "cell_type": "code",
   "execution_count": 33,
   "metadata": {
    "collapsed": true
   },
   "outputs": [],
   "source": [
    "# Save parameters for checkpoint\n",
    "helper.save_params((seq_length, save_dir))\n",
    "\n",
    "import tensorflow as tf\n",
    "import numpy as np\n",
    "import helper\n",
    "import problem_unittests as tests\n",
    "\n",
    "_, vocab_to_int, int_to_vocab, token_dict = helper.load_preprocess()\n",
    "seq_length, load_dir = helper.load_params()"
   ]
  },
  {
   "cell_type": "markdown",
   "metadata": {},
   "source": [
    "## Implement Generate Functions\n",
    "### Get Tensors\n",
    "Get tensors from `loaded_graph` using the function [`get_tensor_by_name()`](https://www.tensorflow.org/api_docs/python/tf/Graph#get_tensor_by_name).  Get the tensors using the following names:\n",
    "- \"input:0\"\n",
    "- \"initial_state:0\"\n",
    "- \"final_state:0\"\n",
    "- \"probs:0\"\n",
    "\n",
    "Return the tensors in the following tuple `(InputTensor, InitialStateTensor, FinalStateTensor, ProbsTensor)` "
   ]
  },
  {
   "cell_type": "code",
   "execution_count": 32,
   "metadata": {
    "collapsed": false
   },
   "outputs": [
    {
     "name": "stdout",
     "output_type": "stream",
     "text": [
      "Tests Passed\n"
     ]
    }
   ],
   "source": [
    "def get_tensors(loaded_graph):\n",
    "    \"\"\"\n",
    "    Get input, initial state, final state, and probabilities tensor from <loaded_graph>\n",
    "    :param loaded_graph: TensorFlow graph loaded from file\n",
    "    :return: Tuple (InputTensor, InitialStateTensor, FinalStateTensor, ProbsTensor)\n",
    "    \"\"\"\n",
    "    InputTensor = loaded_graph.get_tensor_by_name(\"input:0\")\n",
    "    InitialStateTensor = loaded_graph.get_tensor_by_name(\"initial_state:0\")\n",
    "    FinalStateTensor = loaded_graph.get_tensor_by_name(\"final_state:0\")\n",
    "    ProbsTensor = loaded_graph.get_tensor_by_name(\"probs:0\")\n",
    "    return (InputTensor, InitialStateTensor, FinalStateTensor, ProbsTensor)\n",
    "\n",
    "tests.test_get_tensors(get_tensors)"
   ]
  },
  {
   "cell_type": "markdown",
   "metadata": {},
   "source": [
    "### Choose Word\n",
    "Implement the `pick_word()` function to select the next word using `probabilities`."
   ]
  },
  {
   "cell_type": "code",
   "execution_count": 35,
   "metadata": {
    "collapsed": false
   },
   "outputs": [
    {
     "name": "stdout",
     "output_type": "stream",
     "text": [
      "Tests Passed\n"
     ]
    }
   ],
   "source": [
    "def pick_word(probabilities, int_to_vocab):\n",
    "    \"\"\"\n",
    "    Pick the next word in the generated text\n",
    "    :param probabilities: Probabilites of the next word\n",
    "    :param int_to_vocab: Dictionary of word ids as the keys and words as the values\n",
    "    :return: String of the predicted word\n",
    "    \"\"\"\n",
    "    \n",
    "    pr = np.argmax(probabilities)\n",
    "    nextWord = int_to_vocab[pr]    \n",
    "    return nextWord\n",
    "\n",
    "\n",
    "tests.test_pick_word(pick_word)"
   ]
  },
  {
   "cell_type": "code",
   "execution_count": 36,
   "metadata": {
    "collapsed": false
   },
   "outputs": [
    {
     "name": "stdout",
     "output_type": "stream",
     "text": [
      "moe_szyslak:(gets idea) isn't my car more!\n",
      "moe_szyslak: okay.\n",
      "kent_brockman: yeah!\" i never see....\n",
      "moe_szyslak: world, uh, would i ready to real life.\n",
      "homer_simpson: i guess i got a name one of car better.\n",
      "homer_simpson: well. you can just doin' right, things, kid like the money.\n",
      "moe_szyslak: okay?\n",
      "homer_simpson:(sobs) come on buy, but i was play home every day you someone a world!\n",
      "homer_simpson:(ready) he's old!\n",
      "moe_szyslak: aw, come on drink! can not doin' you guys-- duffman is a old old years it's back.\n",
      "barney_gumble: uh. it's a next idea been here. just looks been this kid at play.\n",
      "lenny_leonard: actually i play a little money?\n",
      "chief_wiggum: well, if yeah god! he's just down your old japanese money, i'm looking about something clean don't tell ya little mr. smithers, play..... if you're happy to get it more bucks... and on\n"
     ]
    }
   ],
   "source": [
    "gen_length = 200\n",
    "# homer_simpson, moe_szyslak, or Barney_Gumble\n",
    "prime_word = 'moe_szyslak'\n",
    "\n",
    "\"\"\"\n",
    "DON'T MODIFY ANYTHING IN THIS CELL THAT IS BELOW THIS LINE\n",
    "\"\"\"\n",
    "loaded_graph = tf.Graph()\n",
    "with tf.Session(graph=loaded_graph) as sess:\n",
    "    # Load saved model\n",
    "    loader = tf.train.import_meta_graph(load_dir + '.meta')\n",
    "    loader.restore(sess, load_dir)\n",
    "\n",
    "    # Get Tensors from loaded model\n",
    "    input_text, initial_state, final_state, probs = get_tensors(loaded_graph)\n",
    "\n",
    "    # Sentences generation setup\n",
    "    gen_sentences = [prime_word + ':']\n",
    "    prev_state = sess.run(initial_state, {input_text: np.array([[1]])})\n",
    "\n",
    "    # Generate sentences\n",
    "    for n in range(gen_length):\n",
    "        # Dynamic Input\n",
    "        dyn_input = [[vocab_to_int[word] for word in gen_sentences[-seq_length:]]]\n",
    "        dyn_seq_length = len(dyn_input[0])\n",
    "\n",
    "        # Get Prediction\n",
    "        probabilities, prev_state = sess.run(\n",
    "            [probs, final_state],\n",
    "            {input_text: dyn_input, initial_state: prev_state})\n",
    "        \n",
    "        pred_word = pick_word(probabilities[dyn_seq_length-1], int_to_vocab)\n",
    "\n",
    "        gen_sentences.append(pred_word)\n",
    "    \n",
    "    # Remove tokens\n",
    "    tv_script = ' '.join(gen_sentences)\n",
    "    for key, token in token_dict.items():\n",
    "        ending = ' ' if key in ['\\n', '(', '\"'] else ''\n",
    "        tv_script = tv_script.replace(' ' + token.lower(), key)\n",
    "    tv_script = tv_script.replace('\\n ', '\\n')\n",
    "    tv_script = tv_script.replace('( ', '(')\n",
    "        \n",
    "    print(tv_script)"
   ]
  },
  {
   "cell_type": "code",
   "execution_count": null,
   "metadata": {
    "collapsed": true
   },
   "outputs": [],
   "source": []
  }
 ],
 "metadata": {
  "kernelspec": {
   "display_name": "Python 3",
   "language": "python",
   "name": "python3"
  },
  "language_info": {
   "codemirror_mode": {
    "name": "ipython",
    "version": 3
   },
   "file_extension": ".py",
   "mimetype": "text/x-python",
   "name": "python",
   "nbconvert_exporter": "python",
   "pygments_lexer": "ipython3",
   "version": "3.6.3"
  }
 },
 "nbformat": 4,
 "nbformat_minor": 2
}
